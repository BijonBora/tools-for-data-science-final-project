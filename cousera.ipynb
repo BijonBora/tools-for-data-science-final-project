{
 "cells": [
  {
   "cell_type": "markdown",
   "id": "e3acba57-ad4c-4784-b54c-805e3882fcf5",
   "metadata": {},
   "source": [
    "# Tools for Data Science Final Assignment"
   ]
  },
  {
   "cell_type": "markdown",
   "id": "74c9ee99-cad9-437b-8a0c-438599fff189",
   "metadata": {},
   "source": [
    "# Tools for Data Science Final Assignment"
   ]
  },
  {
   "cell_type": "markdown",
   "id": "c05bf4ff-8b7b-44d3-a1e9-0ad7ec38d9f0",
   "metadata": {},
   "source": [
    "## Introduction\n",
    "This notebook is part of the final assignment for the Tools for Data Science course. It includes exercises using markdown and code cells to demonstrate key tools and concepts used in data science."
   ]
  },
  {
   "cell_type": "markdown",
   "id": "a66b8a80-7789-4891-8b30-07899ba35bb5",
   "metadata": {},
   "source": [
    "## Introduction\n",
    "This notebook is part of the final assignment for the Tools for Data Science course. It includes exercises using markdown and code cells to demonstrate key tools and concepts used in data science."
   ]
  },
  {
   "cell_type": "markdown",
   "id": "4f7b6a89-e433-44ef-b88a-e732c599f670",
   "metadata": {},
   "source": [
    "## Data Science Languages\n",
    "- Python  \n",
    "- R  \n",
    "- SQL  \n",
    "- Julia  \n",
    "- Scala\n"
   ]
  },
  {
   "cell_type": "markdown",
   "id": "e77b436e-0e25-41b3-83a5-efea78bdde26",
   "metadata": {},
   "source": [
    "## Data Science Languages\n",
    "- Python  \n",
    "- R  \n",
    "- SQL  \n",
    "- Julia  \n",
    "- Scala\n"
   ]
  },
  {
   "cell_type": "markdown",
   "id": "809ce26a-500d-4479-abcc-21c06f180019",
   "metadata": {},
   "source": [
    "## Data Science Libraries\n",
    "- Pandas  \n",
    "- NumPy  \n",
    "- Matplotlib  \n",
    "- Scikit-learn  \n",
    "- TensorFlow\n"
   ]
  },
  {
   "cell_type": "markdown",
   "id": "d978d24e-3591-45c8-893e-6175474015cb",
   "metadata": {},
   "source": [
    "## Data Science Libraries\n",
    "- Pandas  \n",
    "- NumPy  \n",
    "- Matplotlib  \n",
    "- Scikit-learn  \n",
    "- TensorFlow\n"
   ]
  },
  {
   "cell_type": "markdown",
   "id": "d6cade3d-e766-40ec-9a89-332394051feb",
   "metadata": {},
   "source": [
    "## Data Science Tools\n",
    "\n",
    "| Tool         | Description                          |\n",
    "|--------------|--------------------------------------|\n",
    "| JupyterLab   | Interactive development environment  |\n",
    "| RStudio      | IDE for R programming                |\n",
    "| Apache Spark | Big data processing and analytics    |\n"
   ]
  },
  {
   "cell_type": "markdown",
   "id": "6b72f04f-8f1b-4022-8b9c-d5b8b7bb6248",
   "metadata": {},
   "source": [
    "## Data Science Tools\n",
    "\n",
    "| Tool         | Description                          |\n",
    "|--------------|--------------------------------------|\n",
    "| JupyterLab   | Interactive development environment  |\n",
    "| RStudio      | IDE for R programming                |\n",
    "| Apache Spark | Big data processing and analytics    |\n"
   ]
  },
  {
   "cell_type": "markdown",
   "id": "9c3716a3-6b16-473f-b0b1-bb4edf59a219",
   "metadata": {},
   "source": [
    "## Examples of Arithmetic Expressions\n",
    "The following code cell will perform arithmetic operations such as multiplication and addition."
   ]
  },
  {
   "cell_type": "markdown",
   "id": "5d10e985-cc4b-423b-8a66-6aefb60e1400",
   "metadata": {},
   "source": [
    "## Examples of Arithmetic Expressions\n",
    "The following code cell will perform arithmetic operations such as multiplication and addition."
   ]
  },
  {
   "cell_type": "code",
   "execution_count": 1,
   "id": "64a94ec5-ae0b-4e06-a9db-ffcefa6057ad",
   "metadata": {},
   "outputs": [
    {
     "name": "stdout",
     "output_type": "stream",
     "text": [
      "The result is: 17\n"
     ]
    }
   ],
   "source": [
    "# Arithmetic operation\n",
    "a = 5\n",
    "b = 3\n",
    "result = a * b + 2\n",
    "print(\"The result is:\", result)"
   ]
  },
  {
   "cell_type": "code",
   "execution_count": 2,
   "id": "9a3c33b3-8778-4a76-b7bb-dc49a76a86bd",
   "metadata": {},
   "outputs": [
    {
     "name": "stdout",
     "output_type": "stream",
     "text": [
      "200 minutes is equal to 3.3333333333333335 hours.\n"
     ]
    }
   ],
   "source": [
    "# Convert minutes to hours\n",
    "minutes = 200\n",
    "hours = minutes / 60\n",
    "print(\"200 minutes is equal to\", hours, \"hours.\")\n"
   ]
  },
  {
   "cell_type": "markdown",
   "id": "dcb2adba-7eac-4027-b1d3-f73f2bdb4cec",
   "metadata": {},
   "source": [
    "## Objectives\n",
    "- Understand basic data science tools\n",
    "- Create and format markdown cells\n",
    "- Write and execute code cells\n",
    "- Perform arithmetic operations in Python"
   ]
  },
  {
   "cell_type": "markdown",
   "id": "13d4e569-f0d5-4cb3-b475-d07c6de45706",
   "metadata": {},
   "source": [
    "## Objectives\n",
    "- Understand basic data science tools\n",
    "- Create and format markdown cells\n",
    "- Write and execute code cells\n",
    "- Perform arithmetic operations in Python"
   ]
  },
  {
   "cell_type": "markdown",
   "id": "2a0d4373-2726-44e2-b4d2-7aec3d91d778",
   "metadata": {},
   "source": [
    "## Author\n",
    "JHON"
   ]
  },
  {
   "cell_type": "markdown",
   "id": "9d6379c0-3648-4b00-8e51-2293d6c7c3f4",
   "metadata": {},
   "source": [
    "## Author\n",
    "JHON"
   ]
  }
 ],
 "metadata": {
  "kernelspec": {
   "display_name": "Python [conda env:base] *",
   "language": "python",
   "name": "conda-base-py"
  },
  "language_info": {
   "codemirror_mode": {
    "name": "ipython",
    "version": 3
   },
   "file_extension": ".py",
   "mimetype": "text/x-python",
   "name": "python",
   "nbconvert_exporter": "python",
   "pygments_lexer": "ipython3",
   "version": "3.11.5"
  }
 },
 "nbformat": 4,
 "nbformat_minor": 5
}
